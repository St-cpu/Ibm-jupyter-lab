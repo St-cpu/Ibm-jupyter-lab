{
 "cells": [
  {
   "cell_type": "markdown",
   "id": "a3f63927-a286-4a20-b3de-a2d37bd4e266",
   "metadata": {},
   "source": [
    "# My Jupyter Notebok on JUPYTER LAB"
   ]
  },
  {
   "cell_type": "markdown",
   "id": "ee0bdd50-20e0-4a44-9700-1d7002bf369a",
   "metadata": {},
   "source": [
    "## **BESONG STANLEY TABI** "
   ]
  },
  {
   "cell_type": "markdown",
   "id": "40ba53cf-730c-40be-b211-0b76be0ce7e3",
   "metadata": {
    "tags": []
   },
   "source": [
    "##  *I am interested in data science because I want to be able to analyst data* "
   ]
  },
  {
   "cell_type": "markdown",
   "id": "477d3eb7-04fc-4d63-a345-eed1e3d27e2d",
   "metadata": {
    "tags": []
   },
   "source": [
    "### Creating a line plot  "
   ]
  },
  {
   "cell_type": "code",
   "execution_count": 1,
   "id": "a8e5f2b7-280f-48c3-a708-07176aa3fde1",
   "metadata": {},
   "outputs": [],
   "source": [
    "a = [1,2,3,4,5,6]\n",
    "b = [-1,-2,-3,-4,-5,-6]"
   ]
  },
  {
   "cell_type": "code",
   "execution_count": 2,
   "id": "b8331395-c8ec-49fe-aa88-f6cda34accac",
   "metadata": {},
   "outputs": [
    {
     "name": "stderr",
     "output_type": "stream",
     "text": [
      "Matplotlib is building the font cache; this may take a moment.\n"
     ]
    }
   ],
   "source": [
    "import matplotlib.pyplot as plt"
   ]
  },
  {
   "cell_type": "markdown",
   "id": "9654c457-26f4-487e-a1fb-5c30114c0685",
   "metadata": {},
   "source": [
    "## GRAPH VIEW"
   ]
  },
  {
   "cell_type": "code",
   "execution_count": 3,
   "id": "bd3a01e8-b114-4054-bb0f-15ad4c5cd014",
   "metadata": {},
   "outputs": [
    {
     "data": {
      "image/png": "[encoded data removed]",
      "text/plain": [
       "<Figure size 432x288 with 1 Axes>"
      ]
     },
     "metadata": {
      "needs_background": "light"
     },
     "output_type": "display_data"
    }
   ],
   "source": [
    "plt.plot(a,b)\n",
    "plt.show()"
   ]
  },
  {
   "cell_type": "code",
   "execution_count": null,
   "id": "da9946b0-d67d-4ce4-9015-d210ebdf3388",
   "metadata": {},
   "outputs": [],
   "source": []
  }
 ],
 "metadata": {
  "kernelspec": {
   "display_name": "anaconda-2022.05-py39",
   "language": "python",
   "name": "conda-env-anaconda-2022.05-py39-py"
  },
  "language_info": {
   "codemirror_mode": {
    "name": "ipython",
    "version": 3
   },
   "file_extension": ".py",
   "mimetype": "text/x-python",
   "name": "python",
   "nbconvert_exporter": "python",
   "pygments_lexer": "ipython3",
   "version": "3.9.12"
  }
 },
 "nbformat": 4,
 "nbformat_minor": 5
}
